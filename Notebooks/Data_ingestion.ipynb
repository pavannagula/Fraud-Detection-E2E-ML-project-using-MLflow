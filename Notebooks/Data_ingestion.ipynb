{
 "cells": [
  {
   "cell_type": "code",
   "execution_count": 17,
   "metadata": {},
   "outputs": [],
   "source": [
    "import os "
   ]
  },
  {
   "cell_type": "code",
   "execution_count": 25,
   "metadata": {},
   "outputs": [
    {
     "data": {
      "text/plain": [
       "'c:\\\\Users\\\\pavan\\\\Desktop\\\\Fraud-Detection-E2E-ML-project-using-MLflow\\\\Notebooks'"
      ]
     },
     "execution_count": 25,
     "metadata": {},
     "output_type": "execute_result"
    }
   ],
   "source": [
    "%pwd"
   ]
  },
  {
   "cell_type": "code",
   "execution_count": 26,
   "metadata": {},
   "outputs": [],
   "source": [
    "os.chdir('../')"
   ]
  },
  {
   "cell_type": "code",
   "execution_count": 2,
   "metadata": {},
   "outputs": [],
   "source": [
    "import boto3"
   ]
  },
  {
   "cell_type": "code",
   "execution_count": 6,
   "metadata": {},
   "outputs": [
    {
     "data": {
      "text/plain": [
       "'c:\\\\Users\\\\pavan\\\\Desktop\\\\Fraud-Detection-E2E-ML-project-using-MLflow'"
      ]
     },
     "execution_count": 6,
     "metadata": {},
     "output_type": "execute_result"
    }
   ],
   "source": [
    "%pwd"
   ]
  },
  {
   "cell_type": "code",
   "execution_count": 5,
   "metadata": {},
   "outputs": [],
   "source": [
    "import os\n",
    "os.chdir('../')"
   ]
  },
  {
   "cell_type": "code",
   "execution_count": 21,
   "metadata": {},
   "outputs": [
    {
     "ename": "ImportError",
     "evalue": "attempted relative import with no known parent package",
     "output_type": "error",
     "traceback": [
      "\u001b[1;31m---------------------------------------------------------------------------\u001b[0m",
      "\u001b[1;31mImportError\u001b[0m                               Traceback (most recent call last)",
      "Cell \u001b[1;32mIn[21], line 1\u001b[0m\n\u001b[1;32m----> 1\u001b[0m \u001b[39mfrom\u001b[39;00m \u001b[39m.\u001b[39;00m\u001b[39m.\u001b[39;00m\u001b[39mresearch\u001b[39;00m\u001b[39m.\u001b[39;00m\u001b[39mdownload\u001b[39;00m \u001b[39mimport\u001b[39;00m download_file\n\u001b[0;32m      2\u001b[0m \u001b[39mfrom\u001b[39;00m \u001b[39mpathlib\u001b[39;00m \u001b[39mimport\u001b[39;00m Path\n",
      "\u001b[1;31mImportError\u001b[0m: attempted relative import with no known parent package"
     ]
    }
   ],
   "source": [
    "from research.download import download_file\n",
    "from pathlib import Path"
   ]
  },
  {
   "cell_type": "code",
   "execution_count": 15,
   "metadata": {},
   "outputs": [
    {
     "ename": "NameError",
     "evalue": "name 'download_file' is not defined",
     "output_type": "error",
     "traceback": [
      "\u001b[1;31m---------------------------------------------------------------------------\u001b[0m",
      "\u001b[1;31mNameError\u001b[0m                                 Traceback (most recent call last)",
      "Cell \u001b[1;32mIn[15], line 1\u001b[0m\n\u001b[1;32m----> 1\u001b[0m data \u001b[39m=\u001b[39m download_file(\u001b[39m'\u001b[39m\u001b[39ms3bucketfrauddata\u001b[39m\u001b[39m'\u001b[39m, \u001b[39m'\u001b[39m\u001b[39mfraud_data.csv\u001b[39m\u001b[39m'\u001b[39m)\n",
      "\u001b[1;31mNameError\u001b[0m: name 'download_file' is not defined"
     ]
    }
   ],
   "source": [
    "data = download_file('s3bucketfrauddata', 'fraud_data.csv')"
   ]
  },
  {
   "cell_type": "code",
   "execution_count": 27,
   "metadata": {},
   "outputs": [],
   "source": [
    "from dataclasses import dataclass\n",
    "from pathlib import Path\n",
    "\n",
    "\n",
    "@dataclass(frozen=True)\n",
    "class DataIngestionConfig:\n",
    "    root_dir: Path\n",
    "    source_URL: str\n",
    "    local_data_file: Path"
   ]
  },
  {
   "cell_type": "code",
   "execution_count": 28,
   "metadata": {},
   "outputs": [],
   "source": [
    "from fraud_detection_project.constants import *\n",
    "from fraud_detection_project.utils.common import read_yaml, create_directories"
   ]
  },
  {
   "cell_type": "code",
   "execution_count": 29,
   "metadata": {},
   "outputs": [],
   "source": [
    "class ConfigurationManager:\n",
    "    # First setting up the environment by defining the file paths of configuration file, params file and schema file.  \n",
    "    def __init__(\n",
    "        self,\n",
    "        config_filepath = CONFIG_FILE_PATH,\n",
    "        params_filepath = PARAMS_FILE_PATH,\n",
    "        schema_filepath = SCHEMA_FILE_PATH):\n",
    "        \n",
    "        self.config = read_yaml(config_filepath)\n",
    "        self.params = read_yaml(params_filepath)\n",
    "        self.schema = read_yaml(schema_filepath)\n",
    "        # Creating the root directory in the artifacts folder\n",
    "        create_directories([self.config.artifacts_root])\n",
    "\n",
    "\n",
    "    # Data Ingestion step\n",
    "    def get_data_ingestion_config(self) -> DataIngestionConfig:\n",
    "        config = self.config.data_ingestion\n",
    "\n",
    "        create_directories([config.root_dir])\n",
    "\n",
    "        data_ingestion_config = DataIngestionConfig(\n",
    "            # We are accessing the file paths that are defined in the configuration yaml file\n",
    "            root_dir=config.root_dir,\n",
    "            source_URL=config.source_URL,\n",
    "            local_data_file=config.local_data_file,\n",
    "        )\n",
    "\n",
    "        return data_ingestion_config"
   ]
  },
  {
   "cell_type": "code",
   "execution_count": 30,
   "metadata": {},
   "outputs": [],
   "source": [
    "import os\n",
    "import urllib.request as request\n",
    "from fraud_detection_project import logger\n",
    "from fraud_detection_project.utils.common import get_size"
   ]
  },
  {
   "cell_type": "code",
   "execution_count": 31,
   "metadata": {},
   "outputs": [],
   "source": [
    "# So far, We have configured the structure of the data ingestion\n",
    "# Now to execute the steps like downloading from the source url lets define the function to peform those actions\n",
    "\n",
    "# initializing the data ingestion class\n",
    "class DataIngestion:\n",
    "    def __init__(self, config: DataIngestionConfig):\n",
    "        self.config = config\n",
    "\n",
    "    # defining the function to download the csv file from the source url\n",
    "    def download_file(self):\n",
    "        # checks if the data file is already present or not, if not executes the function\n",
    "        if not os.path.exists(self.config.local_data_file):\n",
    "            # Extracting the information of the source URL like dataset file name and url headers\n",
    "            filename, headers = request.urlretrieve(\n",
    "                # we are retriving the url path and file name that is defined in the config file\n",
    "                url = self.config.source_URL,\n",
    "                filename = self.config.local_data_file\n",
    "            )\n",
    "            logger.info(f\"{filename} downloaded with following info: \\n{headers}\")\n",
    "        else:\n",
    "            logger.info(f\"File already exists of size: {get_size(Path(self.config.local_data_file))}\")\n"
   ]
  },
  {
   "cell_type": "code",
   "execution_count": 32,
   "metadata": {},
   "outputs": [
    {
     "name": "stdout",
     "output_type": "stream",
     "text": [
      "[2023-08-22 10:48:51,289: INFO: common: yaml file: config\\config.yaml loaded successfully]\n",
      "[2023-08-22 10:48:51,313: INFO: common: yaml file: params.yaml loaded successfully]\n",
      "[2023-08-22 10:48:51,313: INFO: common: yaml file: schema.yaml loaded successfully]\n",
      "[2023-08-22 10:48:51,321: INFO: common: created directory at: artifacts]\n",
      "[2023-08-22 10:48:51,331: INFO: common: created directory at: artifacts/data_ingestion]\n"
     ]
    },
    {
     "name": "stdout",
     "output_type": "stream",
     "text": [
      "[2023-08-22 10:48:52,005: INFO: 233940858: artifacts/data_ingestion/fraud_data.csv downloaded with following info: \n",
      "Content-Type: text/html; charset=utf-8\n",
      "Date: Tue, 22 Aug 2023 14:48:51 GMT\n",
      "Cache-Control: no-cache, no-store\n",
      "Pragma: no-cache\n",
      "Set-Cookie: ka_sessionid=d6105c0cae3f8626a5f39258f0bd36e0; max-age=2626560; path=/\n",
      "Set-Cookie: CSRF-TOKEN=CfDJ8OUZZhoRU_5EmXzVc6iDdFUqWvTIkhFOhzUxHpP9jL0lvZcHCzgmHidVBclxzqiuPKzHfszueEL99POGeIP6DkKBhrfx0UjtLxXq-viNcg; path=/; secure; samesite=lax; httponly\n",
      "Set-Cookie: XSRF-TOKEN=CfDJ8OUZZhoRU_5EmXzVc6iDdFWub2-5lCCGlTzaRYWX5escsRmoC0277yik1bqAK21x451sDTVjjWZ0mNAmxXv9MF-48qe39Zrz7oFDxMYYj6lmxw; path=/; secure; samesite=lax\n",
      "Set-Cookie: CLIENT-TOKEN=eyJhbGciOiJub25lIiwidHlwIjoiSldUIn0.eyJpc3MiOiJrYWdnbGUiLCJhdWQiOiJjbGllbnQiLCJzdWIiOm51bGwsIm5idCI6IjIwMjMtMDgtMjJUMTQ6NDg6NTIuMTc4NjcyOFoiLCJpYXQiOiIyMDIzLTA4LTIyVDE0OjQ4OjUyLjE3ODY3MjhaIiwianRpIjoiOTc5YTFjYmYtZWY0Zi00ZTQyLWE1NjctMDFlMjIyNGFlNDAzIiwiZXhwIjoiMjAyMy0wOS0yMlQxNDo0ODo1Mi4xNzg2NzI4WiIsImFub24iOnRydWUsImZmIjpbIktlcm5lbHNGaXJlYmFzZUxvbmdQb2xsaW5nIiwiQ29tbXVuaXR5TG93ZXJIZWFkZXJTaXplcyIsIkFsbG93Rm9ydW1BdHRhY2htZW50cyIsIkZyb250ZW5kRXJyb3JSZXBvcnRpbmciLCJEYXRhc2V0c01hbmFnZWRGb2N1c09uT3BlbiIsIkRvaURhdGFzZXRUb21ic3RvbmVzIiwiQ2hhbmdlRGF0YXNldE93bmVyc2hpcFRvT3JnIiwiTWF1UmVwb3J0IiwiTW9kZWxzQ2FjaGVkVGFnU2VydmljZUVuYWJsZWQiLCJNb2RlbHNTaG93RmlsZUV4cGxvcmVyIiwiQ29tcGV0aXRpb25zUnVsZXNLbSIsIkRhdGFzZXRzU2hhcmVkV2l0aFRoZW1TZWFyY2giLCJEYXRhc2V0c1ZvdGluZ0NoaXBzIiwiTW9kZWxJbnN0YW5jZVJlbmRlcmVkVXNhZ2UiLCJSZWNlbnRseVZpZXdlZE1vZGVsc1NoZWxmIiwiRGF0YXNldHNOZXdEZWxldGVkVmlldyJdLCJmZmQiOnsiS2VybmVsRWRpdG9yQXV0b3NhdmVUaHJvdHRsZU1zIjoiMzAwMDAiLCJGcm9udGVuZEVycm9yUmVwb3J0aW5nU2FtcGxlUmF0ZSI6IjAiLCJFbWVyZ2VuY3lBbGVydEJhbm5lciI6Int9IiwiQ2xpZW50UnBjUmF0ZUxpbWl0IjoiNDAiLCJGZWF0dXJlZENvbW11bml0eUNvbXBldGl0aW9ucyI6IjUyMzAwLDU0ODU5IiwiQWRkRmVhdHVyZUZsYWdzVG9QYWdlTG9hZFRhZyI6ImRpc2FibGVkIiwiQ29tcGV0aXRpb25NZXRyaWNUaW1lb3V0TWludXRlcyI6IjMwIn0sInBpZCI6ImthZ2dsZS0xNjE2MDciLCJzdmMiOiJ3ZWItZmUiLCJzZGFrIjoiQUl6YVN5QTRlTnFVZFJSc2tKc0NaV1Z6LXFMNjU1WGE1SkVNcmVFIiwiYmxkIjoiMmQ2Yjk3YjZlM2M1YjdjYTQ5YjQ4NjRlM2Q4OTJkMGVjNmJjMTg1MiJ9.; path=/; secure; samesite=lax\n",
      "Transfer-Encoding: chunked\n",
      "Vary: Accept-Encoding\n",
      "Turbolinks-Location: https://www.kaggle.com/datasets/kartik2112/fraud-detection?select=fraudTrain.csv\n",
      "X-Frame-Options: SAMEORIGIN\n",
      "Strict-Transport-Security: max-age=63072000; includeSubDomains; preload\n",
      "Content-Security-Policy: object-src 'none'; script-src 'nonce-ajnAqmAMA88hEPVKn2rCkA==' 'report-sample' 'unsafe-inline' 'unsafe-eval' 'strict-dynamic' https: http:; base-uri 'none'; report-uri https://csp.withgoogle.com/csp/kaggle/20201130; frame-src 'self' https://www.kaggleusercontent.com https://www.youtube.com/embed/ https://polygraph-cool.github.io https://www.google.com/recaptcha/ https://form.jotform.com https://submit.jotform.us https://submit.jotformpro.com https://submit.jotform.com https://www.docdroid.com https://www.docdroid.net https://kaggle-static.storage.googleapis.com https://kkb-production.jupyter-proxy.kaggle.net https://kkb-production.firebaseapp.com https://kaggle-metastore.firebaseapp.com https://apis.google.com https://content-sheets.googleapis.com/ https://accounts.google.com/ https://storage.googleapis.com https://docs.google.com https://drive.google.com https://calendar.google.com/;\n",
      "X-Content-Type-Options: nosniff\n",
      "Referrer-Policy: strict-origin-when-cross-origin\n",
      "Via: 1.1 google\n",
      "Set-Cookie: GCLB=CPuJuM6svt_zKQ; path=/; HttpOnly\n",
      "Alt-Svc: h3=\":443\"; ma=2592000,h3-29=\":443\"; ma=2592000\n",
      "Connection: close\n",
      "\n",
      "]\n"
     ]
    }
   ],
   "source": [
    "try:\n",
    "    config = ConfigurationManager()\n",
    "    data_ingestion_config = config.get_data_ingestion_config()\n",
    "    data_ingestion = DataIngestion(config=data_ingestion_config)\n",
    "    data_ingestion.download_file()\n",
    "except Exception as e:\n",
    "    raise e"
   ]
  },
  {
   "cell_type": "code",
   "execution_count": 24,
   "metadata": {},
   "outputs": [
    {
     "data": {
      "text/plain": [
       "WindowsPath('config/config.yaml')"
      ]
     },
     "execution_count": 24,
     "metadata": {},
     "output_type": "execute_result"
    }
   ],
   "source": [
    "CONFIG_FILE_PATH"
   ]
  }
 ],
 "metadata": {
  "kernelspec": {
   "display_name": "Python 3",
   "language": "python",
   "name": "python3"
  },
  "language_info": {
   "codemirror_mode": {
    "name": "ipython",
    "version": 3
   },
   "file_extension": ".py",
   "mimetype": "text/x-python",
   "name": "python",
   "nbconvert_exporter": "python",
   "pygments_lexer": "ipython3",
   "version": "3.11.3"
  },
  "orig_nbformat": 4
 },
 "nbformat": 4,
 "nbformat_minor": 2
}
